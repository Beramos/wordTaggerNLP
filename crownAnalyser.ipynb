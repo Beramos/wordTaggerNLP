{
 "cells": [
  {
   "cell_type": "code",
   "execution_count": 318,
   "metadata": {
    "ExecuteTime": {
     "end_time": "2020-01-11T13:20:02.595044Z",
     "start_time": "2020-01-11T13:20:02.570685Z"
    }
   },
   "outputs": [
    {
     "name": "stderr",
     "output_type": "stream",
     "text": [
      "[nltk_data] Downloading package averaged_perceptron_tagger to\n",
      "[nltk_data]     /home/bram/nltk_data...\n",
      "[nltk_data]   Package averaged_perceptron_tagger is already up-to-\n",
      "[nltk_data]       date!\n",
      "[nltk_data] Downloading package punkt to /home/bram/nltk_data...\n",
      "[nltk_data]   Package punkt is already up-to-date!\n"
     ]
    }
   ],
   "source": [
    "import nltk\n",
    "nltk.download('averaged_perceptron_tagger')\n",
    "nltk.download('punkt')\n",
    "from nltk import pos_tag\n",
    "\n",
    "import pandas as pd\n",
    "import seaborn as sns\n",
    "%matplotlib inline"
   ]
  },
  {
   "cell_type": "code",
   "execution_count": 319,
   "metadata": {
    "ExecuteTime": {
     "end_time": "2020-01-11T13:20:03.800839Z",
     "start_time": "2020-01-11T13:20:03.777995Z"
    }
   },
   "outputs": [],
   "source": [
    "class Analysis():\n",
    "    def __init__(self,tags):\n",
    "        self.content = {\"other\":{\"count\":0,\"words\":[]}}\n",
    "        self.allTags = []\n",
    "        for tag in tags:\n",
    "            self.content[tag] = {\"count\":0,\"words\":[]}\n",
    "    def add(self,word,tag):\n",
    "        if tag in self.content:\n",
    "            self.content[tag][\"count\"] += 1\n",
    "            self.content[tag][\"words\"] += [word]\n",
    "            self.allTags += [tag]\n",
    "        else:\n",
    "            self.content[\"other\"][\"count\"] += 1\n",
    "            self.content[\"other\"][\"words\"] += [word]\n",
    "            self.allTags += [\"other\"]\n",
    "    def tagOccurence(self):\n",
    "        tagOcc = {}\n",
    "        for key,value in self.content.items():\n",
    "            tagOcc[key] = value[\"count\"]\n",
    "        return tagOcc\n",
    "        "
   ]
  },
  {
   "cell_type": "markdown",
   "metadata": {},
   "source": [
    "**Declaring the abbreviations:**"
   ]
  },
  {
   "cell_type": "code",
   "execution_count": 322,
   "metadata": {
    "ExecuteTime": {
     "end_time": "2020-01-11T13:21:08.341909Z",
     "start_time": "2020-01-11T13:21:08.335625Z"
    }
   },
   "outputs": [],
   "source": [
    "OCAbbrev = {\"FW\":\"foreign word\", \"JJ\":\"adjective\", \"JJR\":\"adjective\", \"JJS\":\"adjective\", \"NN\":\"noun\", \"NNS\":\"noun\", \"NNP\":\"noun\",\"NNPS\":\"noun\",\"RB\":\"adverb\",\"RBR\":\"adverb\", \"RBS\":\"adverb\", \"MD\":\"modal\", \"VB\":\"verb\",\"VBD\":\"verb\",\"VBG\":\"verb\",\"VBN\":\"verb\", \"VBP\":\"verb\", \"VBZ\":\"verb\"}\n",
    "tags = [\"noun\",\"verb\", \"adjective\", \"adverb\", \"foreign word\", \"modal\"]"
   ]
  },
  {
   "cell_type": "markdown",
   "metadata": {},
   "source": [
    "**Input field:**\n",
    "* copy-paste text\n",
    "* Remove all enters\n",
    "* Replace \"*text*\" with '*text*'\n",
    "* Replace all apostrophes with \\accents for example: pilgrim's -> pilgrim\\\\'s"
   ]
  },
  {
   "cell_type": "code",
   "execution_count": 321,
   "metadata": {
    "ExecuteTime": {
     "end_time": "2020-01-11T13:20:06.963269Z",
     "start_time": "2020-01-11T13:20:06.951154Z"
    }
   },
   "outputs": [],
   "source": [
    "speech1 = \"Happy Christmas. Twenty-five years ago my grandfather broadcast the first of these Christmas messages. Today is another landmark because television has made it possible for many of you to see me in your homes on Christmas Day. My own family often gather round to watch television as they are this moment, and that is how I imagine you now. I very much hope that this new medium will make my Christmas message more personal and direct. It is inevitable that I should seem a rather remote figure to many of you. A successor to the Kings and Queens of history; someone whose face may be familiar in newspapers and films but who never really touches your personal lives. But now at least for a few minutes I welcome you to the peace of my own home. That it is possible for some of you to see me today is just another example of the speed at which things are changing all around us. Because of these changes I am not surprised that many people feel lost and unable to decide what to hold on to and what to discard. How to take advantage of the new life without losing the best of the old. But it is not the new inventions which are the difficulty. The trouble is caused by unthinking people who carelessly throw away ageless ideals as if they were old and outworn machinery. They would have religion thrown aside, morality in personal and public life made meaningless, honesty counted as foolishness and self-interest set up in place of self-restraint. At this critical moment in our history we will certainly lose the trust and respect of the world if we just abandon those fundamental principles which guided the men and women who built the greatness of this country and Commonwealth. Today we need a special kind of courage, not the kind needed in battle but a kind which makes us stand up for everything that we know is right, everything that is true and honest. We need the kind of courage that can withstand the subtle corruption of the cynics so that we can show the world that we are not afraid of the future. It has always been easy to hate and destroy. To build and to cherish is much more difficult. That is why we can take a pride in the new Commonwealth we are building. This year Ghana and Malaya joined our brotherhood. Both these countries are now entirely self-governing. Both achieved their new status amicably and peacefully.This advance is a wonderful tribute to the efforts of men of goodwill who have worked together as friends, and I welcome these two countries with all my heart. Last October I opened the new Canadian Parliament, and as you know this was the first time that any Sovereign had done so in Ottawa. Once again I was overwhelmed by the loyalty and enthusiasm of my Canadian people. Also during 1957 my husband and I paid visits to Portugal, France, Denmark and the United States of America. In each case the arrangements and formalities were managed with great skill but no one could have 'managed' the welcome we received from the people. In each country I was welcomed as Head of the Commonwealth and as your representative. These nations are our friends largely because we have always tried to do our best to be honest and kindly and because we have tried to stand up for what we believe to be right. In the old days the monarch led his soldiers on the battlefield and his leadership at all times was close and personal. Today things are very different. I cannot lead you into battle, I do not give you laws or administer justice but I can do something else, I can give you my heart and my devotion to these old islands and to all the peoples of our brotherhood of nations. I believe in our qualities and in our strength, I believe that together we can set an example to the world which will encourage upright people everywhere. I would like to read you a few lines from 'Pilgrim\\'s Progress', because I am sure we can say with Mr Valiant for Truth, these words: 'Though with great difficulty I am got hither, yet now I do not repent me of all the trouble I have been at to arrive where I am. My sword I give to him that shall succeed me in my pilgrimage and my courage and skill to him that can get it. My marks and scars I carry with me, to be a witness for me that I have fought his battles who now will be my rewarder.' I hope that 1958 may bring you God's blessing and all the things you long for. And so I wish you all, young and old, wherever you may be, all the fun and enjoyment, and the peace of a very happy Christmas.\""
   ]
  },
  {
   "cell_type": "markdown",
   "metadata": {},
   "source": [
    "**Step 1:** detecting and separating sentences"
   ]
  },
  {
   "cell_type": "code",
   "execution_count": 305,
   "metadata": {
    "ExecuteTime": {
     "end_time": "2020-01-11T13:17:33.214952Z",
     "start_time": "2020-01-11T13:17:33.201642Z"
    }
   },
   "outputs": [],
   "source": [
    "sentences = nltk.sent_tokenize(speech1)  "
   ]
  },
  {
   "cell_type": "markdown",
   "metadata": {},
   "source": [
    "**Step 2:** tagging words"
   ]
  },
  {
   "cell_type": "code",
   "execution_count": 306,
   "metadata": {
    "ExecuteTime": {
     "end_time": "2020-01-11T13:17:33.408479Z",
     "start_time": "2020-01-11T13:17:33.403175Z"
    }
   },
   "outputs": [],
   "source": [
    "tagged_words = []\n",
    "analysis = Analysis(tags)\n",
    "\n",
    "for sentence in sentences:\n",
    "    tagged_words += pos_tag(nltk.word_tokenize(sentence))\n",
    "\n",
    "for (word,tag) in tagged_words:\n",
    "    try:\n",
    "        long_tag = OCAbbrev[tag]\n",
    "    except:\n",
    "        long_tag = tag\n",
    "\n",
    "    analysis.add(word,long_tag)\n",
    "data = pd.DataFrame.from_dict({\"tags\":analysis.allTags})"
   ]
  },
  {
   "cell_type": "code",
   "execution_count": 310,
   "metadata": {
    "ExecuteTime": {
     "end_time": "2020-01-11T13:17:35.828365Z",
     "start_time": "2020-01-11T13:17:35.818059Z"
    }
   },
   "outputs": [
    {
     "data": {
      "text/plain": [
       "{'adjective': 65,\n",
       " 'adverb': 46,\n",
       " 'foreign word': 0,\n",
       " 'modal': 21,\n",
       " 'noun': 173,\n",
       " 'other': 453,\n",
       " 'verb': 136}"
      ]
     },
     "execution_count": 310,
     "metadata": {},
     "output_type": "execute_result"
    }
   ],
   "source": [
    "analysis.tagOccurence()"
   ]
  },
  {
   "cell_type": "code",
   "execution_count": 317,
   "metadata": {
    "ExecuteTime": {
     "end_time": "2020-01-11T13:19:19.491067Z",
     "start_time": "2020-01-11T13:19:19.353802Z"
    }
   },
   "outputs": [
    {
     "data": {
      "image/png": "[encoded data removed]",
      "text/plain": [
       "<Figure size 360x360 with 1 Axes>"
      ]
     },
     "metadata": {},
     "output_type": "display_data"
    }
   ],
   "source": [
    "sns.catplot(x=\"tags\", kind=\"count\", palette=\"ch:.25\", data=data.loc[data[\"tags\"]!=\"other\"]);"
   ]
  }
 ],
 "metadata": {
  "hide_input": false,
  "kernelspec": {
   "display_name": "Python [default]",
   "language": "python",
   "name": "python3"
  },
  "language_info": {
   "codemirror_mode": {
    "name": "ipython",
    "version": 3
   },
   "file_extension": ".py",
   "mimetype": "text/x-python",
   "name": "python",
   "nbconvert_exporter": "python",
   "pygments_lexer": "ipython3",
   "version": "3.6.4"
  },
  "latex_envs": {
   "LaTeX_envs_menu_present": true,
   "autoclose": false,
   "autocomplete": true,
   "bibliofile": "biblio.bib",
   "cite_by": "apalike",
   "current_citInitial": 1,
   "eqLabelWithNumbers": true,
   "eqNumInitial": 1,
   "hotkeys": {
    "equation": "Ctrl-E",
    "itemize": "Ctrl-I"
   },
   "labels_anchors": false,
   "latex_user_defs": false,
   "report_style_numbering": false,
   "user_envs_cfg": false
  }
 },
 "nbformat": 4,
 "nbformat_minor": 2
}
